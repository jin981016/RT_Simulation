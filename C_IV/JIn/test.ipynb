{
 "cells": [
  {
   "cell_type": "code",
   "execution_count": 2,
   "metadata": {},
   "outputs": [],
   "source": [
    "import matplotlib.pyplot as plt\n",
    "import numpy as np \n",
    "import pandas as pd \n",
    "import os\n",
    "from astropy.constants import c\n",
    "from astropy import constants as const\n",
    "import astropy.units as u\n",
    "from scipy import special\n"
   ]
  },
  {
   "cell_type": "code",
   "execution_count": 31,
   "metadata": {},
   "outputs": [
    {
     "name": "stdout",
     "output_type": "stream",
     "text": [
      "1.9961315195763103\n"
     ]
    }
   ],
   "source": [
    "emit = 50 # km/s\n",
    "x_k = (3e5 / emit) * (1/2/np.sqrt(2))* (1551/1548- 1)\n",
    "x_H = (3e5 / emit) * (1/2/np.sqrt(2))* (1548/1551- 1)\n",
    "x_1 = 2*special.erfc(x_k) + (1551/1548)*special.erfc(x_H)\n",
    "x_2 = 2*special.erfc(-x_k) + (1551/1548)*special.erfc(-x_H)\n",
    "# print(x_1)\n",
    "print(x_2 / x_1)"
   ]
  }
 ],
 "metadata": {
  "kernelspec": {
   "display_name": "Python 3",
   "language": "python",
   "name": "python3"
  },
  "language_info": {
   "codemirror_mode": {
    "name": "ipython",
    "version": 3
   },
   "file_extension": ".py",
   "mimetype": "text/x-python",
   "name": "python",
   "nbconvert_exporter": "python",
   "pygments_lexer": "ipython3",
   "version": "3.10.12"
  }
 },
 "nbformat": 4,
 "nbformat_minor": 2
}
